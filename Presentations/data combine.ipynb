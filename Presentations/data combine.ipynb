{
 "cells": [
  {
   "cell_type": "code",
   "execution_count": 13,
   "id": "7e3e8a20",
   "metadata": {},
   "outputs": [],
   "source": [
    "import pandas as pd\n",
    "import numpy as np\n",
    "import matplotlib.pyplot as plt\n",
    "# import seaborn as sns\n",
    "# import matplotlib.pyplot as plt\n",
    "# import plotly.express as px\n",
    "# import plotly"
   ]
  },
  {
   "cell_type": "code",
   "execution_count": 14,
   "id": "5a62c901",
   "metadata": {},
   "outputs": [],
   "source": [
    "summer = pd.read_csv('summer.csv')\n",
    "world = pd.read_csv('World statistics.csv')"
   ]
  },
  {
   "cell_type": "code",
   "execution_count": 15,
   "id": "30e9c88a",
   "metadata": {},
   "outputs": [],
   "source": [
    "world = world.loc[:,['Country Name','year','Country Code','GDP per capita (current US$)','Population, total']]"
   ]
  },
  {
   "cell_type": "code",
   "execution_count": 16,
   "id": "dc18bf81",
   "metadata": {},
   "outputs": [],
   "source": [
    "world = world.rename(columns = {'Country Name':'Country Name',\n",
    "                         'Country Code':'Country Code',\n",
    "                         'GDP per capita (current US$)':'GDP',\n",
    "                         'Population, total':'Population'})"
   ]
  },
  {
   "cell_type": "code",
   "execution_count": 17,
   "id": "01ee4c97",
   "metadata": {},
   "outputs": [
    {
     "data": {
      "text/html": [
       "<div>\n",
       "<style scoped>\n",
       "    .dataframe tbody tr th:only-of-type {\n",
       "        vertical-align: middle;\n",
       "    }\n",
       "\n",
       "    .dataframe tbody tr th {\n",
       "        vertical-align: top;\n",
       "    }\n",
       "\n",
       "    .dataframe thead th {\n",
       "        text-align: right;\n",
       "    }\n",
       "</style>\n",
       "<table border=\"1\" class=\"dataframe\">\n",
       "  <thead>\n",
       "    <tr style=\"text-align: right;\">\n",
       "      <th></th>\n",
       "      <th>index</th>\n",
       "      <th>Country</th>\n",
       "      <th>code</th>\n",
       "    </tr>\n",
       "  </thead>\n",
       "  <tbody>\n",
       "    <tr>\n",
       "      <th>0</th>\n",
       "      <td>USA</td>\n",
       "      <td>250</td>\n",
       "      <td>USA</td>\n",
       "    </tr>\n",
       "    <tr>\n",
       "      <th>1</th>\n",
       "      <td>RUS</td>\n",
       "      <td>130</td>\n",
       "      <td>RUS</td>\n",
       "    </tr>\n",
       "    <tr>\n",
       "      <th>2</th>\n",
       "      <td>CHN</td>\n",
       "      <td>128</td>\n",
       "      <td>CHN</td>\n",
       "    </tr>\n",
       "    <tr>\n",
       "      <th>3</th>\n",
       "      <td>GBR</td>\n",
       "      <td>126</td>\n",
       "      <td>GBR</td>\n",
       "    </tr>\n",
       "    <tr>\n",
       "      <th>4</th>\n",
       "      <td>AUS</td>\n",
       "      <td>114</td>\n",
       "      <td>AUS</td>\n",
       "    </tr>\n",
       "    <tr>\n",
       "      <th>...</th>\n",
       "      <td>...</td>\n",
       "      <td>...</td>\n",
       "      <td>...</td>\n",
       "    </tr>\n",
       "    <tr>\n",
       "      <th>80</th>\n",
       "      <td>UGA</td>\n",
       "      <td>1</td>\n",
       "      <td>UGA</td>\n",
       "    </tr>\n",
       "    <tr>\n",
       "      <th>81</th>\n",
       "      <td>BRN</td>\n",
       "      <td>1</td>\n",
       "      <td>BRN</td>\n",
       "    </tr>\n",
       "    <tr>\n",
       "      <th>82</th>\n",
       "      <td>KUW</td>\n",
       "      <td>1</td>\n",
       "      <td>KUW</td>\n",
       "    </tr>\n",
       "    <tr>\n",
       "      <th>83</th>\n",
       "      <td>MAR</td>\n",
       "      <td>1</td>\n",
       "      <td>MAR</td>\n",
       "    </tr>\n",
       "    <tr>\n",
       "      <th>84</th>\n",
       "      <td>ALG</td>\n",
       "      <td>1</td>\n",
       "      <td>ALG</td>\n",
       "    </tr>\n",
       "  </tbody>\n",
       "</table>\n",
       "<p>85 rows × 3 columns</p>\n",
       "</div>"
      ],
      "text/plain": [
       "   index  Country code\n",
       "0    USA      250  USA\n",
       "1    RUS      130  RUS\n",
       "2    CHN      128  CHN\n",
       "3    GBR      126  GBR\n",
       "4    AUS      114  AUS\n",
       "..   ...      ...  ...\n",
       "80   UGA        1  UGA\n",
       "81   BRN        1  BRN\n",
       "82   KUW        1  KUW\n",
       "83   MAR        1  MAR\n",
       "84   ALG        1  ALG\n",
       "\n",
       "[85 rows x 3 columns]"
      ]
     },
     "execution_count": 17,
     "metadata": {},
     "output_type": "execute_result"
    }
   ],
   "source": [
    "summer2012 = summer[summer.Year == 2012]\n",
    "medal2012 = summer2012.Country.value_counts() # Athelete numbers of each country \n",
    "medal2012 = medal2012.to_frame()\n",
    "medal2012['code'] = medal2012.index\n",
    "medal2012.reset_index(level = 0, inplace = True)\n",
    "medal2012"
   ]
  },
  {
   "cell_type": "code",
   "execution_count": 18,
   "id": "2dee84aa",
   "metadata": {},
   "outputs": [],
   "source": [
    "# world1962 = world[world.year == 1962]\n",
    "# world1966 = world[world.year == 1966]\n",
    "# world1970 = world[world.year == 1970]\n",
    "# world1974 = world[world.year == 1974]\n",
    "# world1978 = world[world.year == 1978]\n",
    "# world1982 = world[world.year == 1982]\n",
    "# world1986 = world[world.year == 1986]\n",
    "# world1990 = world[world.year == 1990]\n",
    "# world1994 = world[world.year == 1994]\n",
    "# world1988 = world[world.year == 1988]\n",
    "# world1992 = world[world.year == 1992]\n",
    "# world1996 = world[world.year == 1996]\n",
    "# world2000 = world[world.year == 2000]\n",
    "# world2004 = world[world.year == 2004]\n",
    "# world2008 = world[world.year == 2008]\n",
    "world2012 = world[world.year == 2012]\n",
    "\n",
    "world2012.reset_index(drop = True, inplace = True)"
   ]
  },
  {
   "cell_type": "code",
   "execution_count": 19,
   "id": "c5280b36",
   "metadata": {},
   "outputs": [
    {
     "data": {
      "text/html": [
       "<div>\n",
       "<style scoped>\n",
       "    .dataframe tbody tr th:only-of-type {\n",
       "        vertical-align: middle;\n",
       "    }\n",
       "\n",
       "    .dataframe tbody tr th {\n",
       "        vertical-align: top;\n",
       "    }\n",
       "\n",
       "    .dataframe thead th {\n",
       "        text-align: right;\n",
       "    }\n",
       "</style>\n",
       "<table border=\"1\" class=\"dataframe\">\n",
       "  <thead>\n",
       "    <tr style=\"text-align: right;\">\n",
       "      <th></th>\n",
       "      <th>Country Code</th>\n",
       "      <th>GDP</th>\n",
       "      <th>Population</th>\n",
       "      <th>medal</th>\n",
       "    </tr>\n",
       "  </thead>\n",
       "  <tbody>\n",
       "    <tr>\n",
       "      <th>0</th>\n",
       "      <td>AFG</td>\n",
       "      <td>641.871479</td>\n",
       "      <td>31161376.0</td>\n",
       "      <td>1</td>\n",
       "    </tr>\n",
       "    <tr>\n",
       "      <th>1</th>\n",
       "      <td>ARG</td>\n",
       "      <td>13082.664326</td>\n",
       "      <td>41733271.0</td>\n",
       "      <td>20</td>\n",
       "    </tr>\n",
       "    <tr>\n",
       "      <th>2</th>\n",
       "      <td>ARM</td>\n",
       "      <td>3681.857456</td>\n",
       "      <td>2884229.0</td>\n",
       "      <td>2</td>\n",
       "    </tr>\n",
       "    <tr>\n",
       "      <th>3</th>\n",
       "      <td>AUS</td>\n",
       "      <td>68012.147901</td>\n",
       "      <td>22733465.0</td>\n",
       "      <td>114</td>\n",
       "    </tr>\n",
       "    <tr>\n",
       "      <th>4</th>\n",
       "      <td>AZE</td>\n",
       "      <td>7496.294648</td>\n",
       "      <td>9295784.0</td>\n",
       "      <td>10</td>\n",
       "    </tr>\n",
       "    <tr>\n",
       "      <th>...</th>\n",
       "      <td>...</td>\n",
       "      <td>...</td>\n",
       "      <td>...</td>\n",
       "      <td>...</td>\n",
       "    </tr>\n",
       "    <tr>\n",
       "      <th>56</th>\n",
       "      <td>UKR</td>\n",
       "      <td>3855.417729</td>\n",
       "      <td>45593342.0</td>\n",
       "      <td>25</td>\n",
       "    </tr>\n",
       "    <tr>\n",
       "      <th>57</th>\n",
       "      <td>GBR</td>\n",
       "      <td>42462.771568</td>\n",
       "      <td>63700215.0</td>\n",
       "      <td>126</td>\n",
       "    </tr>\n",
       "    <tr>\n",
       "      <th>58</th>\n",
       "      <td>USA</td>\n",
       "      <td>51610.605278</td>\n",
       "      <td>313830990.0</td>\n",
       "      <td>250</td>\n",
       "    </tr>\n",
       "    <tr>\n",
       "      <th>59</th>\n",
       "      <td>UZB</td>\n",
       "      <td>2137.025122</td>\n",
       "      <td>29774500.0</td>\n",
       "      <td>3</td>\n",
       "    </tr>\n",
       "    <tr>\n",
       "      <th>60</th>\n",
       "      <td>VEN</td>\n",
       "      <td>12985.505325</td>\n",
       "      <td>29362449.0</td>\n",
       "      <td>1</td>\n",
       "    </tr>\n",
       "  </tbody>\n",
       "</table>\n",
       "<p>61 rows × 4 columns</p>\n",
       "</div>"
      ],
      "text/plain": [
       "   Country Code           GDP   Population  medal\n",
       "0           AFG    641.871479   31161376.0      1\n",
       "1           ARG  13082.664326   41733271.0     20\n",
       "2           ARM   3681.857456    2884229.0      2\n",
       "3           AUS  68012.147901   22733465.0    114\n",
       "4           AZE   7496.294648    9295784.0     10\n",
       "..          ...           ...          ...    ...\n",
       "56          UKR   3855.417729   45593342.0     25\n",
       "57          GBR  42462.771568   63700215.0    126\n",
       "58          USA  51610.605278  313830990.0    250\n",
       "59          UZB   2137.025122   29774500.0      3\n",
       "60          VEN  12985.505325   29362449.0      1\n",
       "\n",
       "[61 rows x 4 columns]"
      ]
     },
     "execution_count": 19,
     "metadata": {},
     "output_type": "execute_result"
    }
   ],
   "source": [
    "world2012\n",
    "medal2012\n",
    "world2012_ = pd.merge(left = world2012, right = medal2012, how = 'inner', left_on = 'Country Code', right_on = 'code')\n",
    "world2012_ = world2012_.loc[:,['Country Code','GDP','Population','Country']]\n",
    "\n",
    "world2012_ = world2012_.rename(columns = {'Country':'medal'})\n",
    "world2012_"
   ]
  },
  {
   "cell_type": "code",
   "execution_count": 18,
   "id": "f84b516e",
   "metadata": {},
   "outputs": [],
   "source": [
    "data= world2012_"
   ]
  },
  {
   "cell_type": "code",
   "execution_count": 19,
   "id": "7cd52418",
   "metadata": {},
   "outputs": [],
   "source": [
    "import numpy\n",
    "from matplotlib import pyplot as plt\n",
    "from sklearn.linear_model import LinearRegression"
   ]
  },
  {
   "cell_type": "code",
   "execution_count": 22,
   "id": "c4a7d0d4",
   "metadata": {},
   "outputs": [
    {
     "data": {
      "text/html": [
       "<div>\n",
       "<style scoped>\n",
       "    .dataframe tbody tr th:only-of-type {\n",
       "        vertical-align: middle;\n",
       "    }\n",
       "\n",
       "    .dataframe tbody tr th {\n",
       "        vertical-align: top;\n",
       "    }\n",
       "\n",
       "    .dataframe thead th {\n",
       "        text-align: right;\n",
       "    }\n",
       "</style>\n",
       "<table border=\"1\" class=\"dataframe\">\n",
       "  <thead>\n",
       "    <tr style=\"text-align: right;\">\n",
       "      <th></th>\n",
       "      <th>GDP</th>\n",
       "      <th>Population</th>\n",
       "      <th>medal</th>\n",
       "    </tr>\n",
       "  </thead>\n",
       "  <tbody>\n",
       "    <tr>\n",
       "      <th>GDP</th>\n",
       "      <td>1.000000</td>\n",
       "      <td>-0.137443</td>\n",
       "      <td>0.297863</td>\n",
       "    </tr>\n",
       "    <tr>\n",
       "      <th>Population</th>\n",
       "      <td>-0.137443</td>\n",
       "      <td>1.000000</td>\n",
       "      <td>0.330649</td>\n",
       "    </tr>\n",
       "    <tr>\n",
       "      <th>medal</th>\n",
       "      <td>0.297863</td>\n",
       "      <td>0.330649</td>\n",
       "      <td>1.000000</td>\n",
       "    </tr>\n",
       "  </tbody>\n",
       "</table>\n",
       "</div>"
      ],
      "text/plain": [
       "                 GDP  Population     medal\n",
       "GDP         1.000000   -0.137443  0.297863\n",
       "Population -0.137443    1.000000  0.330649\n",
       "medal       0.297863    0.330649  1.000000"
      ]
     },
     "execution_count": 22,
     "metadata": {},
     "output_type": "execute_result"
    },
    {
     "data": {
      "image/png": "[encoded data removed]",
      "text/plain": [
       "<Figure size 432x288 with 1 Axes>"
      ]
     },
     "metadata": {
      "needs_background": "light"
     },
     "output_type": "display_data"
    }
   ],
   "source": [
    "plt.scatter(data.GDP,data.medal)\n",
    "\n",
    "data.corr()"
   ]
  },
  {
   "cell_type": "code",
   "execution_count": 24,
   "id": "40dad369",
   "metadata": {},
   "outputs": [
    {
     "data": {
      "text/html": [
       "<div>\n",
       "<style scoped>\n",
       "    .dataframe tbody tr th:only-of-type {\n",
       "        vertical-align: middle;\n",
       "    }\n",
       "\n",
       "    .dataframe tbody tr th {\n",
       "        vertical-align: top;\n",
       "    }\n",
       "\n",
       "    .dataframe thead th {\n",
       "        text-align: right;\n",
       "    }\n",
       "</style>\n",
       "<table border=\"1\" class=\"dataframe\">\n",
       "  <thead>\n",
       "    <tr style=\"text-align: right;\">\n",
       "      <th></th>\n",
       "      <th>GDP</th>\n",
       "      <th>Population</th>\n",
       "      <th>medal</th>\n",
       "    </tr>\n",
       "  </thead>\n",
       "  <tbody>\n",
       "    <tr>\n",
       "      <th>GDP</th>\n",
       "      <td>1.000000</td>\n",
       "      <td>-0.137443</td>\n",
       "      <td>0.297863</td>\n",
       "    </tr>\n",
       "    <tr>\n",
       "      <th>Population</th>\n",
       "      <td>-0.137443</td>\n",
       "      <td>1.000000</td>\n",
       "      <td>0.330649</td>\n",
       "    </tr>\n",
       "    <tr>\n",
       "      <th>medal</th>\n",
       "      <td>0.297863</td>\n",
       "      <td>0.330649</td>\n",
       "      <td>1.000000</td>\n",
       "    </tr>\n",
       "  </tbody>\n",
       "</table>\n",
       "</div>"
      ],
      "text/plain": [
       "                 GDP  Population     medal\n",
       "GDP         1.000000   -0.137443  0.297863\n",
       "Population -0.137443    1.000000  0.330649\n",
       "medal       0.297863    0.330649  1.000000"
      ]
     },
     "execution_count": 24,
     "metadata": {},
     "output_type": "execute_result"
    },
    {
     "data": {
      "image/png": "[encoded data removed]",
      "text/plain": [
       "<Figure size 432x288 with 1 Axes>"
      ]
     },
     "metadata": {
      "needs_background": "light"
     },
     "output_type": "display_data"
    }
   ],
   "source": [
    "plt.scatter(data.Population,data.medal)\n",
    "\n",
    "data.corr()"
   ]
  },
  {
   "cell_type": "code",
   "execution_count": 26,
   "id": "2d138ec6",
   "metadata": {},
   "outputs": [],
   "source": [
    "data.to_csv('/Users/niejingxin/Desktop/7001/1/2012.csv')"
   ]
  }
 ],
 "metadata": {
  "kernelspec": {
   "display_name": "Python 3",
   "language": "python",
   "name": "python3"
  },
  "language_info": {
   "codemirror_mode": {
    "name": "ipython",
    "version": 3
   },
   "file_extension": ".py",
   "mimetype": "text/x-python",
   "name": "python",
   "nbconvert_exporter": "python",
   "pygments_lexer": "ipython3",
   "version": "3.8.8"
  }
 },
 "nbformat": 4,
 "nbformat_minor": 5
}